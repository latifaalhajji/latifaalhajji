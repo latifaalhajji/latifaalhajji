{
  "nbformat": 4,
  "nbformat_minor": 0,
  "metadata": {
    "colab": {
      "provenance": [],
      "authorship_tag": "ABX9TyPZerh7jXoyB6V+vfZSHroh",
      "include_colab_link": true
    },
    "kernelspec": {
      "name": "python3",
      "display_name": "Python 3"
    },
    "language_info": {
      "name": "python"
    }
  },
  "cells": [
    {
      "cell_type": "markdown",
      "metadata": {
        "id": "view-in-github",
        "colab_type": "text"
      },
      "source": [
        "<a href=\"https://colab.research.google.com/github/latifaalhajji/latifaalhajji/blob/main/coded_summer_25'_python.ipynb\" target=\"_parent\"><img src=\"https://colab.research.google.com/assets/colab-badge.svg\" alt=\"Open In Colab\"/></a>"
      ]
    },
    {
      "cell_type": "code",
      "execution_count": null,
      "metadata": {
        "colab": {
          "base_uri": "https://localhost:8080/"
        },
        "id": "2jW2utXP_yYR",
        "outputId": "eafba762-5839-468e-8ce5-67fe360e0bc4"
      },
      "outputs": [
        {
          "output_type": "stream",
          "name": "stdout",
          "text": [
            "latifa\n",
            "17\n",
            "--------\n",
            " what is your first number of choice: 1\n",
            " what is your second number of choice: 2\n",
            "22\n",
            "--------\n",
            "what is your name? latiaf\n",
            "salamo3alaikum,latiaf\n",
            "--------\n",
            "what is your name? latifa\n",
            "what is your age? 17\n",
            "what are your hobbies? gaming\n",
            "welcome latifa\n",
            "--------\n",
            "what is your name? latiifa\n",
            "what is your age? 17\n",
            "what is your favorite food? mongolian beef\n",
            "what is your favorite color? black\n",
            " my name is latiifa, my age is 17,my favorite food is mongolian beef, and i always wear the color black.\n",
            "--------\n"
          ]
        }
      ],
      "source": [
        "name = \"latifa\"\n",
        "age = 17\n",
        "#----------\n",
        "print (name)\n",
        "print (age)\n",
        "print (\"--------\")\n",
        "#----------\n",
        "number_1 = input( \" what is your first number of choice: \")\n",
        "number_2 = input( \" what is your second number of choice: \")\n",
        "\n",
        "number_1=number_2\n",
        "print (number_1 + number_2)\n",
        "\n",
        "print (\"--------\")\n",
        "#----------\n",
        "name = input(\"what is your name? \")\n",
        "print (f\"salamo3alaikum,{name}\")\n",
        "\n",
        "print (\"--------\")\n",
        "#----------\n",
        "name = input(\"what is your name? \")\n",
        "age= input(\"what is your age? \")\n",
        "hobby = input(\"what are your hobbies? \")\n",
        "\n",
        "print (f\"welcome {name}\")\n",
        "print (\"--------\")\n",
        "#----------\n",
        "name = input(\"what is your name? \")\n",
        "age= input(\"what is your age? \")\n",
        "food = input(\"what is your favorite food? \")\n",
        "color = input(\"what is your favorite color? \")\n",
        "\n",
        "print(f\" my name is {name}, my age is {age},my favorite food is {food}, and i always wear the color {color}.\")\n",
        "print (\"--------\")"
      ]
    },
    {
      "cell_type": "code",
      "source": [
        "number1 = float(input(\"enter a number :\" ))\n",
        "number2 = float(input(\"enter a number : \"))\n",
        "\n",
        "operation = input(\"enter an operation (+, -, *, /): \")\n",
        "\n",
        "if operation == \"+\":\n",
        "    result = number1 + number2\n",
        "elif operation == \"-\":\n",
        "    result = number1 - number2\n",
        "elif operation == \"*\":\n",
        "    result = number1 * number2\n",
        "elif operation == \"/\":\n",
        "    result = number1 / number2\n",
        "elif operation == \"§\":\n",
        "    result = number1 % number2\n",
        "else:\n",
        "    print(\"invalid operation\")\n",
        "\n",
        "print(f\"{number1} {operation} {number2} = {result}\")\n",
        "\n",
        "#-------------------------\n",
        "age = float(input(\"how old are you?: \"))\n",
        "\n",
        "if age >= 18:\n",
        "  result = print(\"you are of legal age to drive\")\n",
        "else:\n",
        "  result = print(\"you are not of legal age to drive\")\n",
        "#----------------------------"
      ],
      "metadata": {
        "colab": {
          "base_uri": "https://localhost:8080/"
        },
        "id": "YkpeYsFYnedi",
        "outputId": "8418870d-2142-4e9f-b82d-5bd072abd8ee"
      },
      "execution_count": 8,
      "outputs": [
        {
          "output_type": "stream",
          "name": "stdout",
          "text": [
            "enter a number :1\n",
            "enter a number : 1\n",
            "enter an operation (+, -, *, /): +\n",
            "1.0 + 1.0 = 2.0\n",
            "how old are you?: 18\n",
            "you are of legal age to drive\n"
          ]
        }
      ]
    },
    {
      "cell_type": "code",
      "source": [
        "#new terms def, then the function name, then you add () just like how you would in a string/input then add : it lets the user input their own thing\n",
        "#arguments gives def info. the two arguments should be like greet(\"sarah\") or greet(\"ahmad\") for the def def great(name): print(f\"hala(name)\")\n",
        "#defs help reduce stuff being repetitive when the code is getting larger and larger, helps reduce fixing code since 1 mistake can ruin the whole code.\n",
        "\n",
        "\n",
        "def age_check():\n",
        "  age = int(input(\"how old are you?: \"))\n",
        "  if  age < 20:\n",
        "   print(\"you are young\")\n",
        "  else :\n",
        "    print(\"you are old\")\n",
        "\n",
        "\n",
        "def quiz():\n",
        "  answer = input(\"what is the capital of kuwait?: \")\n",
        "  if answer == \"kuwait city\":\n",
        "    print(\"correct\")\n",
        "  else:\n",
        "    print(\"incorrect\")\n",
        "\n",
        "age_check()\n",
        "quiz()\n",
        "\n"
      ],
      "metadata": {
        "colab": {
          "base_uri": "https://localhost:8080/"
        },
        "id": "LX_fhJIep1U7",
        "outputId": "8a19dd32-2e21-4a73-ef37-7b2b8e282469"
      },
      "execution_count": 11,
      "outputs": [
        {
          "output_type": "stream",
          "name": "stdout",
          "text": [
            "how old are you?: 1\n",
            "you are young\n",
            "what is the capital of kuwait?: doha\n",
            "incorrect\n"
          ]
        }
      ]
    },
    {
      "cell_type": "code",
      "source": [],
      "metadata": {
        "id": "BNSod_SftPbQ"
      },
      "execution_count": null,
      "outputs": []
    }
  ]
}